{
  "cells": [
    {
      "metadata": {
        "collapsed": true
      },
      "cell_type": "markdown",
      "source": "# Setup"
    },
    {
      "metadata": {
        "trusted": true
      },
      "cell_type": "code",
      "source": "install_load <- function (package1, ...)  {   \n\n   # convert arguments to vector\n   packages <- c(package1, ...)\n\n   # start loop to determine if each package is installed\n   for(package in packages){\n\n       # if package is installed locally, load\n       if(package %in% rownames(installed.packages()))\n          do.call('library', list(package))\n\n       # if package is not installed locally, download, then load\n       else {\n          install.packages(package)\n          do.call(\"library\", list(package))\n       }\n   } \n}",
      "execution_count": null,
      "outputs": []
    },
    {
      "metadata": {},
      "cell_type": "markdown",
      "source": "## Section 9.2"
    },
    {
      "metadata": {
        "trusted": true
      },
      "cell_type": "code",
      "source": "install_load(\"mlr\", \"tidyverse\")",
      "execution_count": null,
      "outputs": []
    }
  ],
  "metadata": {
    "kernelspec": {
      "name": "r",
      "display_name": "R",
      "language": "R"
    },
    "language_info": {
      "mimetype": "text/x-r-source",
      "name": "R",
      "pygments_lexer": "r",
      "version": "3.5.3",
      "file_extension": ".r",
      "codemirror_mode": "r"
    }
  },
  "nbformat": 4,
  "nbformat_minor": 2
}