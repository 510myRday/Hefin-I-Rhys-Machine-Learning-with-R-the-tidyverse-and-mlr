{
 "cells": [
  {
   "cell_type": "markdown",
   "metadata": {},
   "source": [
    "# Section 1.1.1 - AI & Machine Learning"
   ]
  },
  {
   "cell_type": "code",
   "execution_count": 1,
   "metadata": {},
   "outputs": [
    {
     "name": "stdout",
     "output_type": "stream",
     "text": [
      "[1] \"cat\"\n",
      "[1] \"dog\"\n",
      "[1] \"snake\"\n"
     ]
    }
   ],
   "source": [
    "numberOfLegs <- c(4, 4, 0)\n",
    "climbsTrees <- c(TRUE, FALSE, TRUE)\n",
    "\n",
    "for (i in 1:3) {\n",
    "    if (numberOfLegs[i] == 4) {\n",
    "        if (climbsTrees[i]) {\n",
    "            print(\"cat\")\n",
    "        } else {\n",
    "            print(\"dog\")\n",
    "        }\n",
    "    } else {\n",
    "        print(\"snake\")\n",
    "    }\n",
    "}"
   ]
  },
  {
   "cell_type": "code",
   "execution_count": null,
   "metadata": {},
   "outputs": [],
   "source": []
  }
 ],
 "metadata": {
  "kernelspec": {
   "display_name": "R",
   "language": "R",
   "name": "ir"
  },
  "language_info": {
   "codemirror_mode": "r",
   "file_extension": ".r",
   "mimetype": "text/x-r-source",
   "name": "R",
   "pygments_lexer": "r",
   "version": "3.6.2"
  }
 },
 "nbformat": 4,
 "nbformat_minor": 4
}
