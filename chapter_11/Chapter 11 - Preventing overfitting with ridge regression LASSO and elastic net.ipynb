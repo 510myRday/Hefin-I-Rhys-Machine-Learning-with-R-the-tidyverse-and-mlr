{
 "cells": [
  {
   "cell_type": "markdown",
   "metadata": {
    "collapsed": true
   },
   "source": [
    "# Setup"
   ]
  },
  {
   "cell_type": "code",
   "execution_count": null,
   "metadata": {},
   "outputs": [],
   "source": [
    "install_load <- function (package1, ...)  {   \n",
    "\n",
    "   # convert arguments to vector\n",
    "   packages <- c(package1, ...)\n",
    "\n",
    "   # start loop to determine if each package is installed\n",
    "   for(package in packages){\n",
    "\n",
    "       # if package is installed locally, load\n",
    "       if(package %in% rownames(installed.packages()))\n",
    "          do.call('library', list(package))\n",
    "\n",
    "       # if package is not installed locally, download, then load\n",
    "       else {\n",
    "          install.packages(package)\n",
    "          do.call(\"library\", list(package))\n",
    "       }\n",
    "   } \n",
    "}"
   ]
  },
  {
   "cell_type": "markdown",
   "metadata": {},
   "source": [
    "## Section 11.6"
   ]
  },
  {
   "cell_type": "code",
   "execution_count": null,
   "metadata": {},
   "outputs": [],
   "source": [
    "install_load(\"tidyverse\", \"parallel\", \"parallelMap\", \"mlr\")"
   ]
  },
  {
   "cell_type": "markdown",
   "metadata": {},
   "source": [
    "### Listing 11.1"
   ]
  },
  {
   "cell_type": "code",
   "execution_count": null,
   "metadata": {},
   "outputs": [],
   "source": [
    "data(Iowa, package = \"lasso2\")\n",
    "iowaTib <- as_tibble(Iowa)\n",
    "iowaTib"
   ]
  },
  {
   "cell_type": "markdown",
   "metadata": {},
   "source": [
    "### Listing 11.2"
   ]
  },
  {
   "cell_type": "code",
   "execution_count": null,
   "metadata": {},
   "outputs": [],
   "source": [
    "iowUntidy <- gather(iowaTib, \"Variable\", \"Value\", -Yield)\n",
    "\n",
    "options(repr.plot.width = 12, repr.plot.height = 8)\n",
    "ggplot(iowaUntidy, aes(Value, Yield)) +\n",
    "    facet_wrap(~Variable, scales = \"free_x\") + \n",
    "    geom_point() +\n",
    "    geom_smooth(method = \"lm\") +\n",
    "    theme_bw()"
   ]
  },
  {
   "cell_type": "markdown",
   "metadata": {},
   "source": [
    "## Section 11.6.2"
   ]
  },
  {
   "cell_type": "markdown",
   "metadata": {},
   "source": [
    "### Listing 11.3"
   ]
  },
  {
   "cell_type": "code",
   "execution_count": null,
   "metadata": {},
   "outputs": [],
   "source": [
    "iowaTask <- makeRegrTask(data = iowaTib, target = \"Yield\")\n",
    "ridge <- makeLearner(\"regr.glmnet\", alpha = 0, id = \"ridge\")"
   ]
  },
  {
   "cell_type": "markdown",
   "metadata": {},
   "source": [
    "### Listing 11.4"
   ]
  },
  {
   "cell_type": "code",
   "execution_count": null,
   "metadata": {},
   "outputs": [],
   "source": [
    "filterVals <- generateFilterValuesData(iowaTask)\n",
    "plotFilterValues(filterVals) + theme_bw()"
   ]
  },
  {
   "cell_type": "markdown",
   "metadata": {},
   "source": [
    "### Listing 11.5"
   ]
  },
  {
   "cell_type": "code",
   "execution_count": null,
   "metadata": {},
   "outputs": [],
   "source": [
    "ridgeParamSpace <- makeParamSet(\n",
    "    nameNumericParam(\"s\", lower = 0, upper = 15))\n",
    "randSearch <- makeTuneControlRandom(maxit = 200)\n",
    "cvForTuning <- makeResampleDesc(\"RepCV\", folds = 3, reps = 10)\n",
    "\n",
    "parallelStartSocket(cpus = detectCores())\n",
    "tunedRidgePars <- tuneParmas(ridge, task = iowaTask,\n",
    "                            resampling = cvForTuning,\n",
    "                            par.set = ridgeParamSpace,\n",
    "                            control = randSearch)\n",
    "parallelStop()\n",
    "\n",
    "tunedRidgePars"
   ]
  },
  {
   "cell_type": "markdown",
   "metadata": {},
   "source": [
    "### Listing 11.6"
   ]
  },
  {
   "cell_type": "code",
   "execution_count": null,
   "metadata": {},
   "outputs": [],
   "source": [
    "ridgeTuningData <- generateHyperParsEffectData(tunedRidgePars)\n",
    "plotHyperParsEffect(ridgeTuningData, x = \"s\", y = \"mse.test.mena\", plot.type = \"line\") +\n",
    "    theme_bw()"
   ]
  },
  {
   "cell_type": "markdown",
   "metadata": {},
   "source": [
    "### Exercise 1"
   ]
  },
  {
   "cell_type": "code",
   "execution_count": null,
   "metadata": {},
   "outputs": [],
   "source": [
    "# update search to 50\n",
    "ridgeParamSpace50 <- makeParamSet(\n",
    "  makeNumericParam(\"s\", lower = 0, upper = 50))\n",
    "\n",
    "parallelStartSocket(cpus = detectCores())\n",
    "tunedRidgePars50 <- tuneParams(ridge, task = iowaTask,\n",
    "                             resampling = cvForTuning,\n",
    "                             par.set = ridgeParamSpace50,\n",
    "                             control = randSearch)\n",
    "parallelStop()\n",
    "\n",
    "ridgeTuningData50 <- generateHyperParsEffectData(tunedRidgePars50)\n",
    "plotHyperParsEffect(ridgeTuningData50, x = \"s\", y = \"mse.test.mean\",\n",
    "                    plot.type = \"line\") +\n",
    "  theme_bw()"
   ]
  },
  {
   "cell_type": "markdown",
   "metadata": {},
   "source": [
    "### Listing 11.7"
   ]
  },
  {
   "cell_type": "code",
   "execution_count": null,
   "metadata": {},
   "outputs": [],
   "source": [
    "tunedRidge <- setHyperPars(ridge, par.vals = tunedRidgePars$x)\n",
    "tunedRidgeModel <- train(tunedRidge, iowaTask)"
   ]
  },
  {
   "cell_type": "markdown",
   "metadata": {},
   "source": [
    "### Listing 11.8"
   ]
  },
  {
   "cell_type": "code",
   "execution_count": null,
   "metadata": {},
   "outputs": [],
   "source": [
    "ridgeModelData <- getLearnerModel(tunedRidgeModel)\n",
    "ridgeCoefs <- coef(ridgeModeldata, s = tunedRidgePars$x$s)\n",
    "ridgeCoefs"
   ]
  },
  {
   "cell_type": "markdown",
   "metadata": {},
   "source": [
    "### Listing 11.9"
   ]
  },
  {
   "cell_type": "code",
   "execution_count": null,
   "metadata": {},
   "outputs": [],
   "source": [
    "lmCoefs <- coef(lm(Yield ~ ., data = iowaTib))\n",
    "coefTib <- tibble(Coef = rownames(ridgeCoefs)[-1],\n",
    "                 Ridge = as.vector(ridgeCoefs)[-1],\n",
    "                 Lm = as.vector(lmCoefs)[-1]))\n",
    "coefUntidy <- gather(coefTib, key = Model, value = Beta, -Coef)\n",
    "ggplot(coefUntidy, aes(reorder(Coef, Beta), Beta, fill = Model)) + \n",
    "    geom_bar(stat = \"identity\", col = \"black\") +\n",
    "    facet_wrap(~Model) +\n",
    "    theme_bw() +\n",
    "    theme(legend.position = \"none\")"
   ]
  },
  {
   "cell_type": "markdown",
   "metadata": {},
   "source": [
    "### Exercise 2"
   ]
  },
  {
   "cell_type": "code",
   "execution_count": null,
   "metadata": {},
   "outputs": [],
   "source": [
    "coefTib2 <- tibble(Coef = rownames(ridgeCoefs),\n",
    "                  Ridge = as.vector(ridgeCoefs),\n",
    "                  Lm = as.vector(lmCoefs)))\n",
    "coefUntidy2 <- gather(coefTib2, key = Model, value = Beta, -Coef)\n",
    "ggplot(coefUntidy2, aes(reorder(Coef, Beta), Beta, fill = Model)) + \n",
    "    geom_bar(stat = \"identity\", col = \"black\") +\n",
    "    facet_wrap(~Model) +\n",
    "    theme_bw() +\n",
    "    theme(legend.position = \"none\")"
   ]
  }
 ],
 "metadata": {
  "kernelspec": {
   "display_name": "R",
   "language": "R",
   "name": "r"
  },
  "language_info": {
   "codemirror_mode": "r",
   "file_extension": ".r",
   "mimetype": "text/x-r-source",
   "name": "R",
   "pygments_lexer": "r",
   "version": "3.5.3"
  }
 },
 "nbformat": 4,
 "nbformat_minor": 2
}
