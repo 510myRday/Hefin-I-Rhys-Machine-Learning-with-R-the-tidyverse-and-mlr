{
 "cells": [
  {
   "cell_type": "markdown",
   "metadata": {
    "collapsed": true
   },
   "source": [
    "# Setup"
   ]
  },
  {
   "cell_type": "code",
   "execution_count": null,
   "metadata": {},
   "outputs": [],
   "source": [
    "install_load <- function (package1, ...)  {   \n",
    "\n",
    "   # convert arguments to vector\n",
    "   packages <- c(package1, ...)\n",
    "\n",
    "   # start loop to determine if each package is installed\n",
    "   for(package in packages){\n",
    "\n",
    "       # if package is installed locally, load\n",
    "       if(package %in% rownames(installed.packages()))\n",
    "          do.call('library', list(package))\n",
    "\n",
    "       # if package is not installed locally, download, then load\n",
    "       else {\n",
    "          install.packages(package)\n",
    "          do.call(\"library\", list(package))\n",
    "       }\n",
    "   } \n",
    "}"
   ]
  },
  {
   "cell_type": "code",
   "execution_count": null,
   "metadata": {},
   "outputs": [],
   "source": [
    "# listing 9.1\n",
    "install_load(\"tidyselect\", \"parallel\", \"parallelMap\", \"randomForestSRC\", \"mlr\", \"tidyverse\", \"FSelector\")\n",
    "\n",
    "data(Ozone, package = \"mlbench\")\n",
    "\n",
    "ozoneTib <- as_tibble(Ozone)\n",
    "\n",
    "names(ozoneTib) <- c(\"Month\", \"Date\", \"Day\", \"Ozone\", \"Press_height\",\n",
    "                     \"Wind\", \"Humid\", \"Temp_Sand\", \"Temp_Monte\",\n",
    "                     \"Inv_height\", \"Press_grad\", \"Inv_temp\", \"Visib\")\n",
    "\n",
    "# listing 9.2\n",
    "ozoneClean <- mutate_all(ozoneTib, as.numeric) %>%\n",
    "  filter(is.na(Ozone) == FALSE)\n",
    "\n",
    "# listing 9.3\n",
    "options(repr.plot.width=10, repr.plot.height=4)\n",
    "\n",
    "ozoneUntidy <- gather(ozoneClean, key = \"Variable\",\n",
    "                      value = \"Value\", -Ozone)\n",
    "\n",
    "ggplot(ozoneUntidy, aes(Value, Ozone)) +\n",
    "  facet_wrap(~ Variable, scale = \"free_x\") +\n",
    "  geom_point() +\n",
    "  geom_smooth() +\n",
    "  geom_smooth(method = \"lm\", col = \"red\") +\n",
    "  theme_bw()"
   ]
  }
 ],
 "metadata": {
  "kernelspec": {
   "display_name": "R",
   "language": "R",
   "name": "r"
  },
  "language_info": {
   "codemirror_mode": "r",
   "file_extension": ".r",
   "mimetype": "text/x-r-source",
   "name": "R",
   "pygments_lexer": "r",
   "version": "3.5.3"
  }
 },
 "nbformat": 4,
 "nbformat_minor": 2
}
